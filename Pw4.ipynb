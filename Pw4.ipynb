{
  "nbformat": 4,
  "nbformat_minor": 0,
  "metadata": {
    "colab": {
      "name": "Pw4.ipynb",
      "provenance": []
    },
    "kernelspec": {
      "name": "python3",
      "display_name": "Python 3"
    }
  },
  "cells": [
    {
      "cell_type": "code",
      "metadata": {
        "colab": {
          "base_uri": "https://localhost:8080/"
        },
        "id": "GkObewOtLqug",
        "outputId": "93a78cf1-f04e-4113-9665-c73e877a4e4e"
      },
      "source": [
        "class Printed_edition:\n",
        "  def __init__(self, n, p):\n",
        "    self.name = str(n)\n",
        "    self.pages = int(p)\n",
        "\n",
        "class Magazine(Printed_edition):\n",
        "  def numArticles(self, i):\n",
        "    self.images = i\n",
        "    return self.pages - self.images\n",
        "\n",
        "class Book(Printed_edition):\n",
        "  def weight(self):\n",
        "    return self.pages / 2 \n",
        "\n",
        "class Textbook(Book):\n",
        " def weight(self, e):\n",
        "    return Book.weight(self) - e\n",
        "\n",
        "edi1 = Book('Fairy tales', 300)\n",
        "edi2 = Textbook('Programming', 300)\n",
        "edi3 = Magazine('Heros', 48)\n",
        "print(\"Book '{}' has {} pages, weights {} g\".format(edi1.name, edi1.pages, edi1.weight()))\n",
        "print(\"Book '{}' has {} pages, weights {} g\".format(edi2.name, edi2.pages, edi2.weight(5)))\n",
        "print(\"Magazine '{}' has {} pages, {} articles\".format(edi3.name, edi3.pages, edi3.numArticles(16)))"
      ],
      "execution_count": 50,
      "outputs": [
        {
          "output_type": "stream",
          "text": [
            "Book 'Fairy tales' has 300 pages, weights 150.0 g\n",
            "Book 'Programming' has 300 pages, weights 145.0 g\n",
            "Magazine 'Heros' has 48 pages, 32 articles\n"
          ],
          "name": "stdout"
        }
      ]
    }
  ]
}