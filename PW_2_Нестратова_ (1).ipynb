{
  "nbformat": 4,
  "nbformat_minor": 0,
  "metadata": {
    "colab": {
      "name": "PW_2_Нестратова\"",
      "provenance": []
    },
    "kernelspec": {
      "name": "python3",
      "display_name": "Python 3"
    }
  },
  "cells": [
    {
      "cell_type": "markdown",
      "metadata": {
        "id": "UPrhxa_9e57k"
      },
      "source": [
        "# ***Практическая работа №2***"
      ]
    },
    {
      "cell_type": "markdown",
      "metadata": {
        "id": "rZbRYNX8geY7"
      },
      "source": [
        "\n",
        "# ЗАДАНИЕ 1\n",
        "\n"
      ]
    },
    {
      "cell_type": "code",
      "metadata": {
        "id": "MS723JAZfHQe",
        "colab": {
          "base_uri": "https://localhost:8080/",
          "height": 87
        },
        "outputId": "349de019-b788-4413-f88d-1f4b0af5532e"
      },
      "source": [
        "class first:\n",
        "  color = \"red\"\n",
        "  def out(self):\n",
        "    print(self.color + \"!\")\n",
        "\n",
        "\n",
        "obj1=first()\n",
        "obj2=first()\n",
        "\n",
        "\n",
        "print (obj1.color)\n",
        "print (obj2.color)\n",
        "obj1.out()\n",
        "obj2.out()"
      ],
      "execution_count": null,
      "outputs": [
        {
          "output_type": "stream",
          "text": [
            "red\n",
            "red\n",
            "red!\n",
            "red!\n"
          ],
          "name": "stdout"
        }
      ]
    },
    {
      "cell_type": "markdown",
      "metadata": {
        "id": "zlv7Uoy_glhz"
      },
      "source": [
        "# ***ЗАДАНИЕ 2***"
      ]
    },
    {
      "cell_type": "code",
      "metadata": {
        "id": "4krpl_rUgTLm",
        "colab": {
          "base_uri": "https://localhost:8080/",
          "height": 87
        },
        "outputId": "6d3c88f0-e321-4f50-b828-a0e1e643ab1b"
      },
      "source": [
        "class second:\n",
        "      color=\"red\"\n",
        "      form=\"circle\"\n",
        "      def changecolor(self, newcolor):\n",
        "        self.color = newcolor\n",
        "      def changeform(self, newform):\n",
        "        self.form = newform\n",
        "\n",
        "obj1=second()\n",
        "obj2=second() \n",
        "\n",
        "print (obj1.color, obj1.form)\n",
        "print (obj2.color, obj2.form)\n",
        "\n",
        "obj1.changecolor(\"green\")\n",
        "obj2.changecolor(\"blue\")\n",
        "obj2.changeform(\"oval\")\n",
        "\n",
        "print (obj1.color, obj1.form)\n",
        "print (obj2.color, obj2.form)\n",
        "\n"
      ],
      "execution_count": null,
      "outputs": [
        {
          "output_type": "stream",
          "text": [
            "red circle\n",
            "red circle\n",
            "green circle\n",
            "blue oval\n"
          ],
          "name": "stdout"
        }
      ]
    },
    {
      "cell_type": "code",
      "metadata": {
        "id": "fFDlC5tYjsc6",
        "colab": {
          "base_uri": "https://localhost:8080/",
          "height": 123
        },
        "outputId": "82ca2f9d-0a58-4b14-98db-c8ce66cbb629"
      },
      "source": [
        "class third :\n",
        "      color=\"red\"\n",
        "      form=\"circle\"\n",
        "      size=\"3\"\n",
        "      def changecolor(self, newcolor):\n",
        "        self.color = newcolor\n",
        "      def changeform(self, newform):\n",
        "        self.form = newform\n",
        "      def changesize(self, newsize):\n",
        "        self.size = newsize\n",
        "\n",
        "obj1=third()\n",
        "obj2=third() \n",
        "obj3=third()\n",
        "\n",
        "print (obj1.color, obj1.form,obj1.size)\n",
        "print (obj2.color, obj2.form, obj2.size)\n",
        "print (obj3.color, obj3.form, obj3.size)\n",
        "\n",
        "obj1.changecolor(\"green\")\n",
        "obj1.changeform(\"square\")\n",
        "obj2.changecolor(\"yellow\")\n",
        "obj2.changesize(\"4\")\n",
        "obj3.changecolor(\"blue\")\n",
        "obj3.changeform(\"oval\")\n",
        "obj3.changesize(\"6\")\n",
        "\n",
        "\n",
        "print (obj1.color, obj1.form,obj1.size)\n",
        "print (obj2.color, obj2.form, obj2.size)\n",
        "print (obj3.color, obj3.form, obj3.size)"
      ],
      "execution_count": null,
      "outputs": [
        {
          "output_type": "stream",
          "text": [
            "red circle 3\n",
            "red circle 3\n",
            "red circle 3\n",
            "green square 3\n",
            "yellow circle 4\n",
            "blue oval 6\n"
          ],
          "name": "stdout"
        }
      ]
    },
    {
      "cell_type": "code",
      "metadata": {
        "id": "3Uf9ZSbkNSnT",
        "colab": {
          "base_uri": "https://localhost:8080/",
          "height": 156
        },
        "outputId": "54f2ff16-49a2-4e67-a59f-d5febec53484"
      },
      "source": [
        "class Schoolchildren:\n",
        "  total=\"20\"\n",
        "  totalboys=\"9\"\n",
        "  totalgirls=\"11\"\n",
        "  def changetotal(self,newtotal):\n",
        "    self.total=newtotal\n",
        "  def changetotalboys(self,newtotalboys):\n",
        "    self.totalboys=newtotalboys\n",
        "  def changetotalgirls(self,newtotalgirls):\n",
        "    self.totalgirls=newtotalgirls\n",
        "\n",
        "obj1=Schoolchildren()\n",
        "obj2=Schoolchildren()\n",
        "\n",
        "print(obj1.total,obj1.totalboys,obj1.totalgirls)\n",
        "print(obj2.total,obj2.totalboys,obj2.totalgirls)\n",
        "\n",
        "obj1.changetotal(\"19\")\n",
        "obj1.changetotalboys(\"8\")\n",
        "obj2.changetotal(\"21\")\n",
        "obj2.changetotalgirls(\"12\")\n",
        "\n",
        "print(obj1.total,obj1.totalboys,obj1.totalgirls)\n",
        "print(obj2.total,obj2.totalboys,obj2.totalgirls)\n",
        "\n",
        "class Girl:\n",
        "  hair=\"brown\"\n",
        "  eyes=\"green\"\n",
        "  def changehair(self,newhair):\n",
        "    self.hair=newhair\n",
        "  def changeeyes(self,neweyes):\n",
        "    self.eyes=neweyes\n",
        "\n",
        "girl1=Girl()\n",
        "girl2=Girl()\n",
        "\n",
        "print(girl1.hair, girl1.eyes)\n",
        "print(girl2.hair,girl2.eyes)\n",
        "\n",
        "girl1.changehair(\"blond\")\n",
        "girl1.changeeyes(\"blue\")\n",
        "girl2.changeeyes(\"black\")\n",
        "\n",
        "print(girl1.hair, girl1.eyes)\n",
        "print(girl2.hair,girl2.eyes)\n",
        "\n",
        "\n"
      ],
      "execution_count": null,
      "outputs": [
        {
          "output_type": "stream",
          "text": [
            "20 9 11\n",
            "20 9 11\n",
            "19 8 11\n",
            "21 9 12\n",
            "brown green\n",
            "brown green\n",
            "blond blue\n",
            "brown black\n"
          ],
          "name": "stdout"
        }
      ]
    },
    {
      "cell_type": "markdown",
      "metadata": {
        "id": "kdnwl3xhOkMK"
      },
      "source": [
        "# ЗАДАНИЕ ***3*** "
      ]
    },
    {
      "cell_type": "code",
      "metadata": {
        "id": "iptG6ShfOsnd"
      },
      "source": [
        "class YesInit:\n",
        "  def __init__(self,one,two):\n",
        "    self.fname=one\n",
        "    self.sname=two\n",
        "\n",
        "obj1=YesInit(\"Petter\", \"Ok\")\n",
        "\n",
        "print(obj1.fname, obj1.sname)\n"
      ],
      "execution_count": null,
      "outputs": []
    },
    {
      "cell_type": "code",
      "metadata": {
        "id": "Zf26u_GQmyPU"
      },
      "source": [
        "class NoInit:\n",
        "  def names(self,one,two):\n",
        "    self.fname=one\n",
        "    self.sname=two \n",
        "\n",
        "obj1=NoInit()\n",
        "obj1.names(\"Petter\", \"Ok\")\n",
        "\n",
        "print(obj1.fname, obj1.sname)"
      ],
      "execution_count": null,
      "outputs": []
    },
    {
      "cell_type": "markdown",
      "metadata": {
        "id": "y9UCkZGpYsue"
      },
      "source": [
        "# ЗАДАНИЕ ***4***"
      ]
    },
    {
      "cell_type": "code",
      "metadata": {
        "id": "uQFnnoMIYvaY",
        "colab": {
          "base_uri": "https://localhost:8080/",
          "height": 85
        },
        "outputId": "ff4d3947-fcbd-488c-9958-f8f5d8d7f031"
      },
      "source": [
        "class YesInit:\n",
        "  def __init__(self, one=\"noname\", two = \"nonametoo\"):\n",
        "    self.fname=one \n",
        "    self.sname=two\n",
        "\n",
        "obj1=YesInit(\"Sasha\", \"Tu\")\n",
        "obj2=YesInit()\n",
        "obj3=YesInit(\"Spartak\")\n",
        "obj4=YesInit(two=\"Harry\")\n",
        "\n",
        "print(obj1.fname, obj1.sname)\n",
        "print(obj2.fname, obj2.sname)\n",
        "print(obj3.fname, obj3.sname)\n",
        "print(obj4.fname, obj4.sname)"
      ],
      "execution_count": null,
      "outputs": [
        {
          "output_type": "stream",
          "text": [
            "Sasha Tu\n",
            "noname nonametoo\n",
            "Spartak nonametoo\n",
            "noname Harry\n"
          ],
          "name": "stdout"
        }
      ]
    },
    {
      "cell_type": "markdown",
      "metadata": {
        "id": "HbS5ucfum4nK"
      },
      "source": [
        "# ЗАДАНИЕ 5\r\n"
      ]
    },
    {
      "cell_type": "code",
      "metadata": {
        "id": "RUyLoKsGm-54",
        "colab": {
          "base_uri": "https://localhost:8080/",
          "height": 51
        },
        "outputId": "df8e50ab-e214-46b9-c919-29ccde6cebb0"
      },
      "source": [
        "class fruits:\n",
        "  def __init__(self,w,n=0):\n",
        "    self.what=w\n",
        "    self.numbers=n\n",
        "\n",
        "f1=fruits(\"apple\",150)\n",
        "f2=fruits(\"pineapple\")\n",
        "  \n",
        "print(f1.what,f1.numbers)\n",
        "print(f2.what,f2.numbers)\n",
        "\n"
      ],
      "execution_count": null,
      "outputs": [
        {
          "output_type": "stream",
          "text": [
            "apple 150\n",
            "pineapple 0\n"
          ],
          "name": "stdout"
        }
      ]
    },
    {
      "cell_type": "markdown",
      "metadata": {
        "id": "OQ8hP99VvuaO"
      },
      "source": [
        "# ЗАДАНИЕ 6 "
      ]
    },
    {
      "cell_type": "code",
      "metadata": {
        "id": "WOvQEHJMvqdw",
        "colab": {
          "base_uri": "https://localhost:8080/",
          "height": 85
        },
        "outputId": "aa5394ad-5520-4126-d23c-a48dbba1fe93"
      },
      "source": [
        "class Building:\n",
        "  def __init__(self,w,c, n=0):\n",
        "    self.what=w\n",
        "    self.color=c\n",
        "    self.numbers=n\n",
        "    self.mwhere(n)\n",
        "  def mwhere(self, n):\n",
        "    if n<=0:\n",
        "      self.where=\"Отсутствуют\"\n",
        "    elif 0<n<100:\n",
        "      self.where=\"малый склад\"\n",
        "    else:\n",
        "      self.where=\"основной склад\"\n",
        "  def plus(self,p):\n",
        "    self.numbers=self.numbers+p\n",
        "    self.mwhere(self.numbers)\n",
        "  def minus(self,m):\n",
        "    self.numbers=self.numbers-m\n",
        "    self.mwhere(self.numbers)\n",
        "\n",
        "m1=Building(\"Доски\", \"белые\",50)\n",
        "m2=Building(\"Доски\", \"коричневые\",300)\n",
        "m3=Building(\"кирпичи\", \"белые\")\n",
        "\n",
        "print(m1.what,m1.color,m1.where)\n",
        "print(m2.what,m2.color,m2.where)\n",
        "print(m3.what,m3.color,m3.where)\n",
        "\n",
        "m1.plus(500)\n",
        "print(m1.numbers, m1.where)\n"
      ],
      "execution_count": null,
      "outputs": [
        {
          "output_type": "stream",
          "text": [
            "Доски белые малый склад\n",
            "Доски коричневые основной склад\n",
            "кирпичи белые Отсутствуют\n",
            "550 основной склад\n"
          ],
          "name": "stdout"
        }
      ]
    },
    {
      "cell_type": "code",
      "metadata": {
        "id": "fpmF8LbN5DT7",
        "colab": {
          "base_uri": "https://localhost:8080/"
        },
        "outputId": "54fab28f-2bb0-43fb-e350-68145d041343"
      },
      "source": [
        "class fig:\n",
        "    def __init__(self, w = 1, l = 5):\n",
        "        self.width = w\n",
        "        self.length = l\n",
        "    def square(self):\n",
        "        return self.width * self.length\n",
        " \n",
        "obj1 = fig(4, 3)\n",
        "obj2 = fig()\n",
        "obj3 = fig(2)\n",
        "obj4 = fig(l = 7)\n",
        "\n",
        "\n",
        "print(obj1.square())\n",
        "print(obj2.square())\n",
        "print(obj3.square())\n",
        "print(obj4.square())"
      ],
      "execution_count": 1,
      "outputs": [
        {
          "output_type": "stream",
          "text": [
            "12\n",
            "5\n",
            "10\n",
            "7\n"
          ],
          "name": "stdout"
        }
      ]
    },
    {
      "cell_type": "markdown",
      "metadata": {
        "id": "LHh0bAzL-hrc"
      },
      "source": [
        "# ***ЗАДАНИЕ 8*** "
      ]
    },
    {
      "cell_type": "code",
      "metadata": {
        "id": "PUGQPUcL_1Vy",
        "colab": {
          "base_uri": "https://localhost:8080/",
          "height": 102
        },
        "outputId": "5460d009-e5bf-4a07-c668-0d2274b0f8b3"
      },
      "source": [
        "class Table:\n",
        "  def __init__(self,l,w,h):\n",
        "    self.long=l \n",
        "    self.width=w \n",
        "    self.height=h \n",
        "  def outing(self):\n",
        "    print(self.long, self.width, self.height)\n",
        "\n",
        "\n",
        "class Kitchen(Table):\n",
        "  def howplaces(self,n):\n",
        "    if n < 2:\n",
        "      print(\"It is not kitchen table\")\n",
        "    else:\n",
        "      self.places=n\n",
        "  def outplaces(self):\n",
        "    print(self.places)\n",
        "\n",
        "\n",
        "t_room1=Kitchen(2,1,0.5)  \n",
        "t_room1.outing()\n",
        "t_room1.howplaces(5)\n",
        "t_room1.outplaces()\n",
        "\n",
        "t_2=Table(1,3,0.7)\n",
        "t_2.outing()\n",
        "\n",
        "\n",
        "class Worker(Table):\n",
        "  def __init__(self,m):\n",
        "    self.material=m\n",
        "  def square(self,l,w):\n",
        "    self.square=l*w \n",
        "    print(self.square)\n",
        "    \n",
        "\n",
        "t3=Worker(\"iron\")\n",
        "t3.square(5,7)\n",
        "print(t3.material)\n",
        "\n",
        "\n"
      ],
      "execution_count": null,
      "outputs": [
        {
          "output_type": "stream",
          "text": [
            "2 1 0.5\n",
            "5\n",
            "1 3 0.7\n",
            "35\n",
            "iron\n"
          ],
          "name": "stdout"
        }
      ]
    },
    {
      "cell_type": "code",
      "metadata": {
        "id": "RkfvykqGKTF7",
        "colab": {
          "base_uri": "https://localhost:8080/",
          "height": 68
        },
        "outputId": "fd84989c-a1ff-47d5-da48-615af34f34f6"
      },
      "source": [
        "class Figure:\n",
        "  color=\"white\"\n",
        "  def changecolor(self,c):\n",
        "    self.color=c \n",
        "  \n",
        " \n",
        "class Oval(Figure):\n",
        "  def __init__(self,r):\n",
        "    self.radius=r \n",
        "obj1=Oval(10)\n",
        "\n",
        "\n",
        "class Square(Figure):\n",
        "  def __init__(self,l,w):\n",
        "    self.long=l \n",
        "    self.wight=w \n",
        "  def площадь(self):\n",
        "    return(self.long*self.wight)\n",
        "\n",
        "obj2=Square(5,9)\n",
        "obj2.changecolor(\"синего\")\n",
        "\n",
        "print(\"Радиус=\", obj1.radius)\n",
        "print(obj2.color)\n",
        "print(\"Площадь фигуры {} цвета = {}\".format(obj2.color, obj2.площадь()))"
      ],
      "execution_count": null,
      "outputs": [
        {
          "output_type": "stream",
          "text": [
            "Радиус= 10\n",
            "синего\n",
            "Площадь фигуры синего цвета = 45\n"
          ],
          "name": "stdout"
        }
      ]
    }
  ]
}